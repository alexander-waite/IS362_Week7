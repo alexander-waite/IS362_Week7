{
 "cells": [
  {
   "cell_type": "code",
   "execution_count": 1,
   "id": "a46b394a",
   "metadata": {},
   "outputs": [],
   "source": [
    "import pandas as pd\n",
    "import numpy as np"
   ]
  },
  {
   "cell_type": "code",
   "execution_count": 2,
   "id": "885f5623",
   "metadata": {},
   "outputs": [],
   "source": [
    "csvreader = pd.read_csv(\"Week7.csv\")"
   ]
  },
  {
   "cell_type": "code",
   "execution_count": 3,
   "id": "54b2cddb",
   "metadata": {},
   "outputs": [],
   "source": [
    "csvreader.rename(columns={'Unnamed: 0':'Names'}, inplace=True)"
   ]
  },
  {
   "cell_type": "code",
   "execution_count": 4,
   "id": "c190d148",
   "metadata": {},
   "outputs": [
    {
     "data": {
      "text/html": [
       "<div>\n",
       "<style scoped>\n",
       "    .dataframe tbody tr th:only-of-type {\n",
       "        vertical-align: middle;\n",
       "    }\n",
       "\n",
       "    .dataframe tbody tr th {\n",
       "        vertical-align: top;\n",
       "    }\n",
       "\n",
       "    .dataframe thead th {\n",
       "        text-align: right;\n",
       "    }\n",
       "</style>\n",
       "<table border=\"1\" class=\"dataframe\">\n",
       "  <thead>\n",
       "    <tr style=\"text-align: right;\">\n",
       "      <th></th>\n",
       "      <th>Names</th>\n",
       "      <th>The Stronghold</th>\n",
       "      <th>Venom – Let there be Carnage</th>\n",
       "      <th>After We Fell</th>\n",
       "      <th>Malignant</th>\n",
       "      <th>Intrusion</th>\n",
       "      <th>Catch the Bullet</th>\n",
       "    </tr>\n",
       "    <tr>\n",
       "      <th>movie ratings</th>\n",
       "      <th></th>\n",
       "      <th></th>\n",
       "      <th></th>\n",
       "      <th></th>\n",
       "      <th></th>\n",
       "      <th></th>\n",
       "      <th></th>\n",
       "    </tr>\n",
       "  </thead>\n",
       "  <tbody>\n",
       "    <tr>\n",
       "      <th>0</th>\n",
       "      <td>Bob</td>\n",
       "      <td>4</td>\n",
       "      <td>2</td>\n",
       "      <td>5</td>\n",
       "      <td>1</td>\n",
       "      <td>2</td>\n",
       "      <td>4</td>\n",
       "    </tr>\n",
       "    <tr>\n",
       "      <th>1</th>\n",
       "      <td>Sherry</td>\n",
       "      <td>1</td>\n",
       "      <td>3</td>\n",
       "      <td>2</td>\n",
       "      <td>5</td>\n",
       "      <td>5</td>\n",
       "      <td>4</td>\n",
       "    </tr>\n",
       "    <tr>\n",
       "      <th>2</th>\n",
       "      <td>Tim</td>\n",
       "      <td>5</td>\n",
       "      <td>2</td>\n",
       "      <td>1</td>\n",
       "      <td>3</td>\n",
       "      <td>5</td>\n",
       "      <td>2</td>\n",
       "    </tr>\n",
       "    <tr>\n",
       "      <th>3</th>\n",
       "      <td>Feng</td>\n",
       "      <td>4</td>\n",
       "      <td>3</td>\n",
       "      <td>3</td>\n",
       "      <td>3</td>\n",
       "      <td>2</td>\n",
       "      <td>5</td>\n",
       "    </tr>\n",
       "    <tr>\n",
       "      <th>4</th>\n",
       "      <td>Jerred</td>\n",
       "      <td>2</td>\n",
       "      <td>1</td>\n",
       "      <td>5</td>\n",
       "      <td>4</td>\n",
       "      <td>2</td>\n",
       "      <td>1</td>\n",
       "    </tr>\n",
       "  </tbody>\n",
       "</table>\n",
       "</div>"
      ],
      "text/plain": [
       "                Names  The Stronghold  Venom – Let there be Carnage  \\\n",
       "movie ratings                                                         \n",
       "0                 Bob               4                             2   \n",
       "1              Sherry               1                             3   \n",
       "2                 Tim               5                             2   \n",
       "3                Feng               4                             3   \n",
       "4              Jerred               2                             1   \n",
       "\n",
       "               After We Fell  Malignant  Intrusion  Catch the Bullet  \n",
       "movie ratings                                                         \n",
       "0                          5          1          2                 4  \n",
       "1                          2          5          5                 4  \n",
       "2                          1          3          5                 2  \n",
       "3                          3          3          2                 5  \n",
       "4                          5          4          2                 1  "
      ]
     },
     "execution_count": 4,
     "metadata": {},
     "output_type": "execute_result"
    }
   ],
   "source": [
    "csvreader.rename_axis(\"movie ratings\")"
   ]
  },
  {
   "cell_type": "code",
   "execution_count": 5,
   "id": "b903e6fb",
   "metadata": {},
   "outputs": [
    {
     "data": {
      "text/plain": [
       "The Stronghold                  3.2\n",
       "Venom – Let there be Carnage    2.2\n",
       "After We Fell                   3.2\n",
       "Malignant                       3.2\n",
       "Intrusion                       3.2\n",
       "Catch the Bullet                3.2\n",
       "dtype: float64"
      ]
     },
     "execution_count": 5,
     "metadata": {},
     "output_type": "execute_result"
    }
   ],
   "source": [
    "csvreader.mean()"
   ]
  },
  {
   "cell_type": "code",
   "execution_count": 6,
   "id": "28e633f6",
   "metadata": {
    "scrolled": true
   },
   "outputs": [
    {
     "data": {
      "text/plain": [
       "Names\n",
       "Bob       3.000000\n",
       "Sherry    3.333333\n",
       "Tim       3.000000\n",
       "Feng      3.333333\n",
       "Jerred    2.500000\n",
       "dtype: float64"
      ]
     },
     "execution_count": 6,
     "metadata": {},
     "output_type": "execute_result"
    }
   ],
   "source": [
    "csvreader2 = csvreader.T\n",
    "csvreader2.columns = csvreader2.iloc[0]\n",
    "csvreader2.drop(csvreader2.index[0], inplace=True)\n",
    "csvreader2.mean()"
   ]
  },
  {
   "cell_type": "markdown",
   "id": "91fd1a54",
   "metadata": {},
   "source": [
    "### This is the formula for normalization which is used to notate the range based on the min and max values. This is helpful in creating a scale for a dataset"
   ]
  },
  {
   "cell_type": "code",
   "execution_count": 7,
   "id": "7cb81f7d",
   "metadata": {},
   "outputs": [
    {
     "name": "stdout",
     "output_type": "stream",
     "text": [
      "The Stronghold 0.55\n",
      "Venom – Let there be Carnage 0.6\n",
      "After We Fell 0.55\n",
      "Malignant 0.55\n",
      "Intrusion 0.4\n",
      "Catch the Bullet 0.55\n"
     ]
    }
   ],
   "source": [
    "df_normalized = csvreader.copy()\n",
    "for col in df_normalized.columns[1:]:\n",
    "    df_normalized_col = (df_normalized[col] - df_normalized[col].min())/(df_normalized[col].max() - df_normalized[col].min())\n",
    "    print(col, df_normalized_col.mean())\n",
    "    "
   ]
  },
  {
   "cell_type": "markdown",
   "id": "cef57b1d",
   "metadata": {},
   "source": [
    "## Normalizing helps put the movies in order from best to worst, Allowing adjustment for the individual preferences of the reviewers. This means that people who rated all movies high are kept on the same scale as those who rated all movies low."
   ]
  },
  {
   "cell_type": "markdown",
   "id": "5ac771f9",
   "metadata": {},
   "source": [
    "___"
   ]
  },
  {
   "cell_type": "markdown",
   "id": "af220b1b",
   "metadata": {},
   "source": [
    "### Standardization is the process of putting a dataset on the same scale, this allows better comparisons across datasets."
   ]
  },
  {
   "cell_type": "markdown",
   "id": "658443a7",
   "metadata": {},
   "source": [
    "### Normalization helps across large diverse datasets to make a measure between the largest and smallest value, and compare results in between.\n",
    "### Standardization is used to determine how many standard deviations that data lies from the mean\n",
    "### A lower standard deviation means results are closer to the mean, a higher standard deviation means results are more dispersed."
   ]
  },
  {
   "cell_type": "code",
   "execution_count": 20,
   "id": "33dab928",
   "metadata": {},
   "outputs": [
    {
     "data": {
      "text/plain": [
       "<AxesSubplot:xlabel='Names'>"
      ]
     },
     "execution_count": 20,
     "metadata": {},
     "output_type": "execute_result"
    },
    {
     "data": {
      "image/png": "[encoded data removed]",
      "text/plain": [
       "<Figure size 432x288 with 1 Axes>"
      ]
     },
     "metadata": {
      "needs_background": "light"
     },
     "output_type": "display_data"
    }
   ],
   "source": [
    "df_standardized = csvreader2.copy()\n",
    "for col in df_standardized.columns:\n",
    "    df_standardized[col] = (df_standardized[col] - df_standardized[col].mean())/(df_standardized[col].std())\n",
    "\n",
    "df_standardized.mean().plot()"
   ]
  },
  {
   "cell_type": "code",
   "execution_count": null,
   "id": "f85cf500",
   "metadata": {},
   "outputs": [],
   "source": []
  }
 ],
 "metadata": {
  "kernelspec": {
   "display_name": "Python 3 (ipykernel)",
   "language": "python",
   "name": "python3"
  },
  "language_info": {
   "codemirror_mode": {
    "name": "ipython",
    "version": 3
   },
   "file_extension": ".py",
   "mimetype": "text/x-python",
   "name": "python",
   "nbconvert_exporter": "python",
   "pygments_lexer": "ipython3",
   "version": "3.9.7"
  }
 },
 "nbformat": 4,
 "nbformat_minor": 5
}
